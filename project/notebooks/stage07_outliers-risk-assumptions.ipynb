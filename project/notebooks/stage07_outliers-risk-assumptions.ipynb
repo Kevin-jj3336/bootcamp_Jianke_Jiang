{
  "cells": [
    {
      "cell_type": "markdown",
      "metadata": {},
      "source": [
        "# Stage 7 Homework — Outliers + Risk Assumptions\n",
        "\n",
        "Notice, as the data is not currently operatable, I did the stage-9 feature engineering first to adjust the data that is easier to analyze."
      ]
    },
    {
      "cell_type": "code",
      "execution_count": 30,
      "metadata": {},
      "outputs": [],
      "source": [
        "# Setup\n",
        "import numpy as np\n",
        "import pandas as pd\n",
        "import matplotlib.pyplot as plt\n",
        "from pathlib import Path\n",
        "from sklearn.linear_model import LinearRegression\n",
        "from sklearn.metrics import mean_absolute_error, r2_score"
      ]
    },
    {
      "cell_type": "markdown",
      "metadata": {},
      "source": [
        "## Load Data (provided or synthetic fallback)"
      ]
    },
    {
      "cell_type": "code",
      "execution_count": 31,
      "metadata": {},
      "outputs": [
        {
          "name": "stdout",
          "output_type": "stream",
          "text": [
            "else case\n",
            "                  hour  depart_frequency  arrive_frequency  tot_frequency  \\\n",
            "0  2025-05-14 20:00:00                 1                 1              2   \n",
            "1  2025-05-14 21:00:00                 1                 2              3   \n",
            "2  2025-05-14 22:00:00                 5                 5             10   \n",
            "3  2025-05-14 23:00:00                 2                 1              3   \n",
            "4  2025-05-15 00:00:00                 0                 1              1   \n",
            "\n",
            "   depart_ratio  arrive_ratio  short_dist  mid_dist  long_dist  outlier_iqr  \\\n",
            "0      0.500000      0.500000    0.000000  0.001992   0.000000        False   \n",
            "1      0.333333      0.666667    0.000000  0.001990   0.000995        False   \n",
            "2      0.500000      0.500000    0.001984  0.004960   0.002976        False   \n",
            "3      0.666667      0.333333    0.000000  0.002988   0.000000        False   \n",
            "4      0.000000      1.000000    0.000000  0.000996   0.000000        False   \n",
            "\n",
            "   outlier_z  win_freq  \n",
            "0      False         1  \n",
            "1      False         1  \n",
            "2      False         5  \n",
            "3      False         2  \n",
            "4      False         0  \n"
          ]
        }
      ],
      "source": [
        "data_path = Path('/Users/kevinjiang/bootcamp_Jianke_Jiang/project/data/processed/Trips_Tandon_Processed_20250823-185812.csv')\n",
        "\n",
        "if data_path.exists():\n",
        "    df = pd.read_csv(data_path, low_memory=False)\n",
        "else:\n",
        "    # Synthetic fallback: linear trend with noise and a few extremes\n",
        "    print(\"else case\")\n",
        "print(df.head())"
      ]
    },
    {
      "cell_type": "markdown",
      "metadata": {},
      "source": [
        "## TODO: Implement Outlier Functions (required)"
      ]
    },
    {
      "cell_type": "code",
      "execution_count": 20,
      "metadata": {
        "tags": [
          "grade_required"
        ]
      },
      "outputs": [],
      "source": [
        "def detect_outliers_iqr(series: pd.Series, k: float = 1.5) -> pd.Series:\n",
        "    \"\"\"Return boolean mask for IQR-based outliers.\n",
        "    Assumptions: distribution reasonably summarized by quartiles; k controls strictness.\n",
        "    \"\"\"\n",
        "    q1 = series.quantile(0.25)\n",
        "    q3 = series.quantile(0.75)\n",
        "    iqr = q3 - q1\n",
        "    lower = q1 - k * iqr\n",
        "    upper = q3 + k * iqr\n",
        "    return (series < lower) | (series > upper)\n",
        "\n",
        "def detect_outliers_zscore(series: pd.Series, threshold: float = 3.0) -> pd.Series:\n",
        "    \"\"\"Return boolean mask for Z-score outliers where |z| > threshold.\n",
        "    Assumptions: roughly normal distribution; sensitive to heavy tails.\n",
        "    \"\"\"\n",
        "    mu = series.mean()\n",
        "    sigma = series.std(ddof=0)\n",
        "    z = (series - mu) / (sigma if sigma != 0 else 1.0)\n",
        "    return z.abs() > threshold"
      ]
    },
    {
      "cell_type": "markdown",
      "metadata": {},
      "source": [
        "*(Stretch)* Implement winsorizing (optional)."
      ]
    },
    {
      "cell_type": "code",
      "execution_count": 21,
      "metadata": {
        "tags": [
          "stretch"
        ]
      },
      "outputs": [],
      "source": [
        "def winsorize_series(series: pd.Series, lower: float = 0.05, upper: float = 0.95) -> pd.Series:\n",
        "    lo = series.quantile(lower)\n",
        "    hi = series.quantile(upper)\n",
        "    return series.clip(lower=lo, upper=hi)"
      ]
    },
    {
      "cell_type": "markdown",
      "metadata": {},
      "source": [
        "## Apply Detection and Create Flags (choose a numeric column)"
      ]
    },
    {
      "cell_type": "code",
      "execution_count": 22,
      "metadata": {
        "tags": [
          "grade_required"
        ]
      },
      "outputs": [],
      "source": [
        "target_col = 'y' if 'y' in df.columns else df.select_dtypes(include=['number']).columns[0] #dailuy_return\n",
        "df['outlier_iqr'] = detect_outliers_iqr(df[target_col])\n",
        "df['outlier_z'] = detect_outliers_zscore(df[target_col], threshold=3.0)\n"
      ]
    },
    {
      "cell_type": "markdown",
      "metadata": {},
      "source": [
        "### Visual Checks (boxplot / histogram)"
      ]
    },
    {
      "cell_type": "code",
      "execution_count": 23,
      "metadata": {},
      "outputs": [
        {
          "data": {
            "image/png": "[encoded data removed]",
            "text/plain": [
              "<Figure size 640x480 with 1 Axes>"
            ]
          },
          "metadata": {},
          "output_type": "display_data"
        },
        {
          "data": {
            "image/png": "[encoded data removed]",
            "text/plain": [
              "<Figure size 640x480 with 1 Axes>"
            ]
          },
          "metadata": {},
          "output_type": "display_data"
        }
      ],
      "source": [
        "plt.figure()\n",
        "plt.boxplot(df[target_col])\n",
        "plt.title(f'Boxplot: {target_col}')\n",
        "plt.show()\n",
        "\n",
        "plt.figure()\n",
        "plt.hist(df[target_col], bins=30)\n",
        "plt.title(f'Histogram: {target_col}')\n",
        "plt.show()"
      ]
    },
    {
      "cell_type": "markdown",
      "metadata": {},
      "source": [
        "## Sensitivity Analysis\n",
        "Pick one: summary stats or simple linear regression comparing **all vs. filtered** (and optional winsorized)."
      ]
    },
    {
      "cell_type": "code",
      "execution_count": 29,
      "metadata": {
        "tags": [
          "grade_required"
        ]
      },
      "outputs": [],
      "source": [
        "import numpy as np\n",
        "import pandas as pd\n",
        "import pathlib\n",
        "import datetime as dt \n",
        "\n",
        "# Option A: Summary stats\n",
        "summ_all = df[target_col].describe()[['mean', '50%', 'std']].rename({'50%': 'median'})\n",
        "summ_filtered = df.loc[~df['outlier_iqr'], target_col].describe()[['mean', '50%', 'std']].rename({'50%': 'median'}) # ~ is the negation operater here\n",
        "# loc is used to filter the DataFrame based on the boolean mask\n",
        "summ_w = None\n",
        "# globals() returns a dictionary of all global variables and functions currently defined in the script or interactive session.\n",
        "if 'winsorize_series' in globals():\n",
        "    w = winsorize_series(df[target_col])\n",
        "    summ_w = w.describe()[['mean', '50%', 'std']].rename({'50%': 'median'})\n",
        "\n",
        "comp = pd.concat(\n",
        "    {\n",
        "        'all': summ_all,\n",
        "        'filtered_iqr': summ_filtered,\n",
        "        **({'winsorized': summ_w} if summ_w is not None else {})\n",
        "    }, axis=1\n",
        ")\n",
        "#** 是字典解包运算符，用于将一个字典的键值对展开并合并到外层字典中。\n",
        "\t#\t如果 summ_w 不是 None，就构建一个字典 {'winsorized': summ_w}，然后解包进外层。\n",
        "comp\n",
        "\n",
        "df['win_freq'] = w\n",
        "\n",
        "\n",
        "def ts():\n",
        "    return dt.datetime.now().strftime('%Y%m%d-%H%M%S')\n",
        "PROC = pathlib.Path(\"..\") / \"data/processed\"\n",
        "PROC.mkdir(parents=True, exist_ok=True)\n",
        "output_file = PROC / f\"Trips_Tandon_EDA_{ts()}.csv\"\n",
        "df.to_csv(output_file, index=False)\n"
      ]
    },
    {
      "cell_type": "code",
      "execution_count": 25,
      "metadata": {
        "tags": [
          "grade_required"
        ]
      },
      "outputs": [
        {
          "name": "stdout",
          "output_type": "stream",
          "text": [
            "No 'x' column; skip regression or engineer features.\n"
          ]
        }
      ],
      "source": [
        "# Option B: Simple regression (if x present)\n",
        "if 'x' in df.columns:\n",
        "    X_all = df[['x']].to_numpy(); y_all = df[target_col].to_numpy()\n",
        "    X_filtered = df.loc[~df['outlier_iqr'], ['x']].to_numpy(); y_filtered = df.loc[~df['outlier_iqr'], target_col].to_numpy()\n",
        "\n",
        "    model_all = LinearRegression().fit(X_all, y_all)\n",
        "    model_flt = LinearRegression().fit(X_filtered, y_filtered)\n",
        "\n",
        "    mae_all = mean_absolute_error(y_all, model_all.predict(X_all))\n",
        "    mae_flt = mean_absolute_error(y_filtered, model_flt.predict(X_filtered))\n",
        "\n",
        "    results = pd.DataFrame({\n",
        "        'slope': [model_all.coef_[0], model_flt.coef_[0]],\n",
        "        'intercept': [model_all.intercept_, model_flt.intercept_],\n",
        "        'r2': [model_all.score(X_all, y_all), model_flt.score(X_filtered, y_filtered)],\n",
        "        'mae': [mae_all, mae_flt]\n",
        "    }, index=['all', 'filtered_iqr'])\n",
        "    results\n",
        "else:\n",
        "    results = None\n",
        "    print(\"No 'x' column; skip regression or engineer features.\")"
      ]
    },
    {
      "cell_type": "markdown",
      "metadata": {},
      "source": [
        "### Reflection (≤ 1 page)\n",
        "- Methods and thresholds used (and why)\n",
        "- Assumptions behind choices\n",
        "- Observed impact on results\n",
        "- Risks if assumptions are wrong (e.g., discarding true events)"
      ]
    },
    {
      "cell_type": "markdown",
      "id": "158ee507",
      "metadata": {},
      "source": [
        "*Write your reflection here...*\n",
        "\n",
        "I mainly use winsorize method replace data outside of the IQR with the max and min of the range. This is because my data is in form of time series, dropping any observation is not appropriate for future analysis, based on the box, my data is not normal and extremely skewed, therefore, using the z score would break the assumption of normal distribution. However, I am still assumping extreme data is outlier and not part of the data representing the reality. \n",
        "Based on the winsorized data, the mean decreased as my outliers are all to the max side of the data.\n",
        "If the assumption is not correct, the model may face the risk of spurious regression in later stage."
      ]
    }
  ],
  "metadata": {
    "kernelspec": {
      "display_name": "Python [conda env:bootcamp_env]",
      "language": "python",
      "name": "bootcamp_env"
    },
    "language_info": {
      "codemirror_mode": {
        "name": "ipython",
        "version": 3
      },
      "file_extension": ".py",
      "mimetype": "text/x-python",
      "name": "python",
      "nbconvert_exporter": "python",
      "pygments_lexer": "ipython3",
      "version": "3.10.18"
    }
  },
  "nbformat": 4,
  "nbformat_minor": 5
}
