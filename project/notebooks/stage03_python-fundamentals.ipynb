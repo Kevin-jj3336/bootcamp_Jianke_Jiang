{
 "cells": [
  {
   "cell_type": "markdown",
   "metadata": {},
   "source": [
    "# stage03_python-fundamentals\n",
    "\n",
    "Relative skills are showed in later stages, for example stage 04 and stage 06"
   ]
  }
 ],
 "metadata": {
  "language_info": {
   "name": "python"
  }
 },
 "nbformat": 4,
 "nbformat_minor": 2
}
