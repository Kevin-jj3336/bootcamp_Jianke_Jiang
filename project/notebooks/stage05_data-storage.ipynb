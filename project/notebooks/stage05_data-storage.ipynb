{
 "cells": [
  {
   "cell_type": "markdown",
   "metadata": {},
   "source": [
    "# stage05_data-storage\n",
    "\n",
    "relative skills regard saving using csv showed in the stage 04\n",
    "after data preprocessing in the next step, I will implement the storage method"
   ]
  },
  {
   "cell_type": "code",
   "execution_count": 2,
   "metadata": {},
   "outputs": [
    {
     "name": "stdout",
     "output_type": "stream",
     "text": [
      "Imports OK\n",
      "PROJECT_ROOT: /Users/kevinjiang/bootcamp_Jianke_Jiang/project/notebooks\n",
      "DATA_DIR: /Users/kevinjiang/bootcamp_Jianke_Jiang/project/notebooks/data\n",
      ".env loaded (if present)\n"
     ]
    }
   ],
   "source": [
    "import os, pathlib, datetime as dt\n",
    "import requests\n",
    "import pandas as pd\n",
    "from bs4 import BeautifulSoup\n",
    "from urllib.parse import urljoin\n",
    "from urllib.parse import urlparse\n",
    "import time\n",
    "from datetime import date\n",
    "from dateutil.relativedelta import relativedelta\n",
    "import re\n",
    "import io\n",
    "import zipfile\n",
    "import os\n",
    "from dotenv import load_dotenv\n",
    "\n",
    "import sys \n",
    "sys.path.append(\"..\")\n",
    "from src.config import load_env, get_key\n",
    "load_env()"
   ]
  },
  {
   "cell_type": "code",
   "execution_count": 3,
   "metadata": {},
   "outputs": [
    {
     "name": "stdout",
     "output_type": "stream",
     "text": [
      "RAW -> /Users/kevinjiang/bootcamp_Jianke_Jiang/project/data/raw\n",
      "PROC -> /Users/kevinjiang/bootcamp_Jianke_Jiang/project/data/processed\n"
     ]
    }
   ],
   "source": [
    "RAW = pathlib.Path(\"..\") / \"data/raw\"; RAW.mkdir(parents=True, exist_ok=True)\n",
    "PROC = pathlib.Path(\"..\") / \"data/processed\"; PROC.mkdir(parents=True, exist_ok=True)\n",
    "\n",
    "print('RAW ->', RAW.resolve())\n",
    "print('PROC ->', PROC.resolve())"
   ]
  }
 ],
 "metadata": {
  "kernelspec": {
   "display_name": "Python [conda env:bootcamp_env]",
   "language": "python",
   "name": "bootcamp_env"
  },
  "language_info": {
   "codemirror_mode": {
    "name": "ipython",
    "version": 3
   },
   "file_extension": ".py",
   "mimetype": "text/x-python",
   "name": "python",
   "nbconvert_exporter": "python",
   "pygments_lexer": "ipython3",
   "version": "3.10.18"
  }
 },
 "nbformat": 4,
 "nbformat_minor": 2
}
