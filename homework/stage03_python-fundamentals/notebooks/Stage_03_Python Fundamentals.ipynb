{
 "cells": [
  {
   "cell_type": "code",
   "execution_count": 1,
   "id": "9dc801a3",
   "metadata": {},
   "outputs": [
    {
     "name": "stdout",
     "output_type": "stream",
     "text": [
      "cube: [  1   8  27  64 125]\n"
     ]
    }
   ],
   "source": [
    "import numpy as np\n",
    "\n",
    "#Create an array and perform elementwise operations.\n",
    "arr = np.array([1, 2, 3, 4, 5])\n",
    "print(\"cube:\", arr ** 3)"
   ]
  },
  {
   "cell_type": "code",
   "execution_count": 2,
   "id": "d3d49c42",
   "metadata": {},
   "outputs": [
    {
     "name": "stdout",
     "output_type": "stream",
     "text": [
      "Vectorized: 0.000117s\n",
      "Loop: 0.000062s\n"
     ]
    }
   ],
   "source": [
    "import time\n",
    "\n",
    "#Compare loop vs vectorized execution.\n",
    "# Vectorized operation\n",
    "start = time.time()\n",
    "result_vec = arr * 9999\n",
    "end = time.time()\n",
    "print(f\"Vectorized: {end - start:.6f}s\")\n",
    "\n",
    "# Loop operation\n",
    "start = time.time()\n",
    "result_loop = [x * 9999 for x in arr]\n",
    "end = time.time()\n",
    "print(f\"Loop: {end - start:.6f}s\")"
   ]
  },
  {
   "cell_type": "code",
   "execution_count": 3,
   "id": "3a34ef47",
   "metadata": {},
   "outputs": [
    {
     "name": "stdout",
     "output_type": "stream",
     "text": [
      "<class 'pandas.core.frame.DataFrame'>\n",
      "RangeIndex: 10 entries, 0 to 9\n",
      "Data columns (total 3 columns):\n",
      " #   Column    Non-Null Count  Dtype \n",
      "---  ------    --------------  ----- \n",
      " 0   category  10 non-null     object\n",
      " 1   value     10 non-null     int64 \n",
      " 2   date      10 non-null     object\n",
      "dtypes: int64(1), object(2)\n",
      "memory usage: 368.0+ bytes\n",
      "None\n",
      "  category  value        date\n",
      "0        A     10  2025-08-01\n",
      "1        B     15  2025-08-02\n",
      "2        A     12  2025-08-03\n",
      "3        B     18  2025-08-04\n",
      "4        C     25  2025-08-05\n"
     ]
    }
   ],
   "source": [
    "import pandas as pd\n",
    "#Load provided CSV (data/starter_data.csv) using pandas.\n",
    "df = pd.read_csv('../data/starter_data.csv')\n",
    "\n",
    "#Inspect with .info() and .head().\n",
    "\n",
    "print(df.info())\n",
    "print(df.head())"
   ]
  },
  {
   "cell_type": "code",
   "execution_count": 5,
   "id": "5daa830c",
   "metadata": {},
   "outputs": [
    {
     "name": "stdout",
     "output_type": "stream",
     "text": [
      "           value\n",
      "count  10.000000\n",
      "mean   17.600000\n",
      "std     7.381659\n",
      "min    10.000000\n",
      "25%    12.250000\n",
      "50%    14.500000\n",
      "75%    23.250000\n",
      "max    30.000000\n",
      "      category        date\n",
      "value                     \n",
      "10           A  2025-08-01\n",
      "11           A  2025-08-07\n",
      "12           A  2025-08-03\n",
      "13           A  2025-08-10\n",
      "14           B  2025-08-08\n",
      "15           B  2025-08-02\n",
      "18           B  2025-08-04\n",
      "25           C  2025-08-05\n",
      "28           C  2025-08-09\n",
      "30           C  2025-08-06\n"
     ]
    }
   ],
   "source": [
    "#Calculate .describe() for numeric columns.\n",
    "numeric_summary = df.describe()\n",
    "print(numeric_summary)\n",
    "\n",
    "\n",
    "#Perform .groupby() aggregation by category.\n",
    "grouped = df.groupby('value').sum()\n",
    "print(grouped)"
   ]
  },
  {
   "cell_type": "code",
   "execution_count": 6,
   "id": "aee29c5b",
   "metadata": {},
   "outputs": [],
   "source": [
    "#Save summary stats to data/processed/summary.csv or .json.\n",
    "numeric_summary.to_csv('../data/processed/summary.csv')\n",
    "grouped.to_csv('../data/processed/grouped_summary.csv')\n"
   ]
  },
  {
   "cell_type": "code",
   "execution_count": 7,
   "id": "9cc62711",
   "metadata": {},
   "outputs": [
    {
     "name": "stdout",
     "output_type": "stream",
     "text": [
      "{}\n"
     ]
    }
   ],
   "source": [
    "#a custom utility function\n",
    "def is_std_bigger_than_ten(dataframe, threshold):\n",
    "    stds = df.std(numeric_only=True)\n",
    "    large_std = {col: val for col, val in stds.items() if val > threshold}\n",
    "    return large_std\n",
    "\n",
    "\n",
    "stats = is_std_bigger_than_ten(df, 10)\n",
    "print(stats)"
   ]
  },
  {
   "cell_type": "code",
   "execution_count": null,
   "id": "ed994a80",
   "metadata": {},
   "outputs": [],
   "source": []
  }
 ],
 "metadata": {
  "kernelspec": {
   "display_name": "Python [conda env:bootcamp_env]",
   "language": "python",
   "name": "bootcamp_env"
  },
  "language_info": {
   "codemirror_mode": {
    "name": "ipython",
    "version": 3
   },
   "file_extension": ".py",
   "mimetype": "text/x-python",
   "name": "python",
   "nbconvert_exporter": "python",
   "pygments_lexer": "ipython3",
   "version": "3.10.18"
  },
  "toc": {
   "base_numbering": 1,
   "nav_menu": {},
   "number_sections": true,
   "sideBar": true,
   "skip_h1_title": false,
   "title_cell": "Table of Contents",
   "title_sidebar": "Contents",
   "toc_cell": false,
   "toc_position": {},
   "toc_section_display": true,
   "toc_window_display": false
  },
  "varInspector": {
   "cols": {
    "lenName": 16,
    "lenType": 16,
    "lenVar": 40
   },
   "kernels_config": {
    "python": {
     "delete_cmd_postfix": "",
     "delete_cmd_prefix": "del ",
     "library": "var_list.py",
     "varRefreshCmd": "print(var_dic_list())"
    },
    "r": {
     "delete_cmd_postfix": ") ",
     "delete_cmd_prefix": "rm(",
     "library": "var_list.r",
     "varRefreshCmd": "cat(var_dic_list()) "
    }
   },
   "types_to_exclude": [
    "module",
    "function",
    "builtin_function_or_method",
    "instance",
    "_Feature"
   ],
   "window_display": false
  }
 },
 "nbformat": 4,
 "nbformat_minor": 5
}
